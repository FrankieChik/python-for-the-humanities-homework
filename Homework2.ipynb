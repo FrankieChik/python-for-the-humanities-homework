{
 "cells": [
  {
   "cell_type": "markdown",
   "metadata": {},
   "source": [
    "# Assignment 1\n",
    "\n",
    "Create a dictionary of items a grocery store has. The keys of the dictionary should be the name of the item and the value should be the price (as numbers e.g. 2.5, 6, or 11.54). Write a loop that asks the user to enter an item. If that item exists in the dictionary add the item to a list called \"basket\". You can represent each item as a tuple (<item>, <price>). The user should be able to enter \"done\" to exit the loop. After the loop has finished, print the list of items bought, the price for each, and the total price for every thing in the basket."
   ]
  },
  {
   "cell_type": "code",
   "execution_count": 32,
   "metadata": {},
   "outputs": [
    {
     "name": "stdout",
     "output_type": "stream",
     "text": [
      "dict_keys(['Apple', 'Orange', 'Lemon', 'Pinnapple'])\n",
      "dict_values([2, 3, 4, 5])\n",
      "What do you want?done\n"
     ]
    }
   ],
   "source": [
    "grocery = {\"Apple\":2, \"Orange\":3, \"Lemon\":4, \"Pinnapple\":5}\n",
    "print (grocery.keys())\n",
    "print (grocery.values())\n",
    "dict=[\"Apple\", \"Orange\", \"Lemon\", \"Pinnaple\"]\n",
    "basket=[]\n",
    "while True:\n",
    "    item=input(\"What do you want?\")\n",
    "    if item==\"done\":\n",
    "        break\n",
    "    \n",
    "    if item in dict:\n",
    "        basket.append(item)\n",
    "        print(\"Add to basket\")\n",
    "    if item not in dict:\n",
    "        print(\"Sorry, we do not have \"+ item)"
   ]
  },
  {
   "cell_type": "markdown",
   "metadata": {},
   "source": [
    "# Assignment 2\n",
    "\n",
    "Let's play some Black Jack. There are two players: the computer and the user. For each player create a list. Give each player a new card by generating a random number between 1 and 11 (I know this is simplified by works for this exercise) and print the number for the user. Then in a loop, ask the user \"Do you want another card?\". If the user says yes, generate another number for both players and print the number for the user. If the numbers for either player add up to 21 that player has won. Leave the loop and print who has won. If the numbers add up to more than 21, that player has lost. Leave the loop and print who has lost. Otherwise, continue with the next iteration. If the user says \"No\" to the question if they want another card, exit the loop. The player with the higher total wins. Print the winner."
   ]
  },
  {
   "cell_type": "code",
   "execution_count": 105,
   "metadata": {},
   "outputs": [
    {
     "name": "stdout",
     "output_type": "stream",
     "text": [
      "User has  [11]\n",
      "Computer has  [4]\n",
      "Do you want another card?Yes\n",
      "User has 16with [11, 5]\n",
      "Do you want another card?Yes\n",
      "User has 18with [11, 5, 2]\n",
      "Do you want another card?Yes\n",
      "User has 24with [11, 5, 2, 6]\n"
     ]
    }
   ],
   "source": [
    "import random\n",
    "User_card=[]\n",
    "Computer_card=[]\n",
    "\n",
    "while len(User_card) !=1:\n",
    "    User_card.append(random.randint(1, 11))\n",
    "    if len(User_card)==1:\n",
    "        print(\"User has \" , User_card)\n",
    "while len(Computer_card) !=1:\n",
    "    Computer_card.append(random.randint(1, 11))\n",
    "    if len(Computer_card)==1:\n",
    "        print(\"Computer has \" , Computer_card)  \n",
    "if sum (User_card)==21:\n",
    "    print(\"User win\")\n",
    "elif sum(User_card)>21:\n",
    "        print(\"Oh.....\")\n",
    "while sum(User_card)<21:\n",
    "    answer=str(input(\"Do you want another card?\"))\n",
    "    if answer==\"No\":\n",
    "        break\n",
    "    if answer==\"Yes\":\n",
    "        User_card.append(random.randint(1, 11))\n",
    "        print(\"User has \" + str(sum(User_card))+ \"with\", User_card)\n",
    "    else:\n",
    "        print(\"User has \" + str(sum(User_card)) + \"with\", User_card)"
   ]
  },
  {
   "cell_type": "markdown",
   "metadata": {},
   "source": [
    "# Assignment 3\n",
    "\n",
    "Redo assignment 2 but create a function that you call to deal a new card for a player (generate random numbers and add it to a players list). Then create a second function that evaluates who's the winner and prints the final counts."
   ]
  },
  {
   "cell_type": "code",
   "execution_count": 1,
   "metadata": {},
   "outputs": [],
   "source": [
    "def new_card(number):\n",
    "    number=input(random.randint(1, 11))\n",
    "    if random_number in Card:\n",
    "        print()\n",
    "    \n",
    "import random\n",
    "User_card=[]\n",
    "Computer_card=[]\n",
    "\n",
    "while len(User_card) !=1:\n",
    "    User_card.append(random.randint(1, 11))\n",
    "    if len(User_card)==1:\n",
    "        print(\"User has \" , User_card)\n",
    "while len(Computer_card) !=1:\n",
    "    Computer_card.append(random.randint(1, 11))\n",
    "    if len(Computer_card)==1:\n",
    "        print(\"Computer has \" , Computer_card)  \n",
    "if sum (User_card)==21:\n",
    "    print(\"User win\")\n",
    "elif sum(User_card)>21:\n",
    "        print(\"Oh.....\")\n",
    "while sum(User_card)<21:\n",
    "    answer=str(input(\"Do you want another card?\"))\n",
    "    if answer==\"No\":\n",
    "        break\n",
    "    if answer==\"Yes\":\n",
    "        User_card.append(random.randint(1, 11))\n",
    "        print(\"User has \" + str(sum(User_card))+ \"with\", User_card)\n",
    "    else:\n",
    "        print(\"User has \" + str(sum(User_card)) + \"with\", User_card)\n",
    "for x in range(2):\n",
    "    print(random.randint (1, 11))"
   ]
  },
  {
   "cell_type": "markdown",
   "metadata": {},
   "source": [
    "# Assignment 4\n",
    "\n",
    "Similar to the in-class exercise, create a dictionary of books and their checkout status. Write a loop that let's a user borrow a book and return a message that informs them if the book is in the library, if it is already checked out or if it was successfully checked out. Also record who checked out a book (by asking the user for their name) and give the user the option to 1) see all the books that a particular user has checked out and 2) see the user who has checked out a book. Use functions to structure your code. You can use the response to the question of which book a user wants to checkout to exit the program or to show all the books a user has checked out."
   ]
  },
  {
   "cell_type": "code",
   "execution_count": null,
   "metadata": {},
   "outputs": [],
   "source": [
    "book={\"Godfather\": True, \"Harry Potter\": False, \"Star Wars\": False, \"On Justice\": True}\n",
    "name={\"Peter\", \"Mary\"}\n",
    "while True:\n",
    "    item=input(\"What book do you want to borrow? \")\n",
    "    if item==\"No\":\n",
    "        break\n",
    "        \n",
    "    a=input(\"Is it in this library?\")\n",
    "    if item in book:\n",
    "        print (\"This book is in our library.\")\n",
    "    else:\n",
    "        print (\"This book is not in our library.\")\n",
    "        break\n",
    "    Status==input(\"Has it been checked out?\")\n",
    "    if book[item]==False:\n",
    "        print(\"Yes. It has been checkedout.\")\n",
    "        print(\"By whom?\")\n",
    "        print(\"By\" )\n",
    "    elif book[item]==True:\n",
    "        print(\"No. It has not been checked out.\")\n",
    "        break"
   ]
  },
  {
   "cell_type": "code",
   "execution_count": null,
   "metadata": {},
   "outputs": [],
   "source": []
  },
  {
   "cell_type": "code",
   "execution_count": null,
   "metadata": {},
   "outputs": [],
   "source": []
  }
 ],
 "metadata": {
  "kernelspec": {
   "display_name": "Python 3",
   "language": "python",
   "name": "python3"
  },
  "language_info": {
   "codemirror_mode": {
    "name": "ipython",
    "version": 3
   },
   "file_extension": ".py",
   "mimetype": "text/x-python",
   "name": "python",
   "nbconvert_exporter": "python",
   "pygments_lexer": "ipython3",
   "version": "3.7.4"
  }
 },
 "nbformat": 4,
 "nbformat_minor": 2
}
