{
 "cells": [
  {
   "cell_type": "markdown",
   "metadata": {},
   "source": [
    "# Assignment 1\n",
    "\n",
    "Create a dictionary of items a grocery store has. The keys of the dictionary should be the name of the item and the value should be the price (as numbers e.g. 2.5, 6, or 11.54). Write a loop that asks the user to enter an item. If that item exists in the dictionary add the item to a list called \"basket\". You can represent each item as a tuple (<item>, <price>). The user should be able to enter \"done\" to exit the loop. After the loop has finished, print the list of items bought, the price for each, and the total price for every thing in the basket."
   ]
  },
  {
   "cell_type": "code",
   "execution_count": 32,
   "metadata": {},
   "outputs": [
    {
     "name": "stdout",
     "output_type": "stream",
     "text": [
      "dict_keys(['Apple', 'Orange', 'Lemon', 'Pinnapple'])\n",
      "dict_values([2, 3, 4, 5])\n",
      "What do you want?done\n"
     ]
    }
   ],
   "source": [
    "grocery = {\"Apple\":2, \"Orange\":3, \"Lemon\":4, \"Pinnapple\":5}\n",
    "print (grocery.keys())\n",
    "print (grocery.values())\n",
    "dict=[\"Apple\", \"Orange\", \"Lemon\", \"Pinnaple\"]\n",
    "basket=[]\n",
    "while True:\n",
    "    item=input(\"What do you want?\")\n",
    "    if item==\"done\":\n",
    "        break\n",
    "    \n",
    "    if item in dict:\n",
    "        basket.append(item)\n",
    "        print(\"Add to basket\")\n",
    "    if item not in dict:\n",
    "        print(\"Sorry, we do not have \"+ item)"
   ]
  },
  {
   "cell_type": "markdown",
   "metadata": {},
   "source": [
    "# Assignment 2\n",
    "\n",
    "Let's play some Black Jack. There are two players: the computer and the user. For each player create a list. Give each player a new card by generating a random number between 1 and 11 (I know this is simplified by works for this exercise) and print the number for the user. Then in a loop, ask the user \"Do you want another card?\". If the user says yes, generate another number for both players and print the number for the user. If the numbers for either player add up to 21 that player has won. Leave the loop and print who has won. If the numbers add up to more than 21, that player has lost. Leave the loop and print who has lost. Otherwise, continue with the next iteration. If the user says \"No\" to the question if they want another card, exit the loop. The player with the higher total wins. Print the winner."
   ]
  },
  {
   "cell_type": "code",
   "execution_count": 105,
   "metadata": {},
   "outputs": [
    {
     "name": "stdout",
     "output_type": "stream",
     "text": [
      "User has  [11]\n",
      "Computer has  [4]\n",
      "Do you want another card?Yes\n",
      "User has 16with [11, 5]\n",
      "Do you want another card?Yes\n",
      "User has 18with [11, 5, 2]\n",
      "Do you want another card?Yes\n",
      "User has 24with [11, 5, 2, 6]\n"
     ]
    }
   ],
   "source": [
    "import random\n",
    "User_card=[]\n",
    "Computer_card=[]\n",
    "\n",
    "while len(User_card) !=1:\n",
    "    User_card.append(random.randint(1, 11))\n",
    "    if len(User_card)==1:\n",
    "        print(\"User has \" , User_card)\n",
    "while len(Computer_card) !=1:\n",
    "    Computer_card.append(random.randint(1, 11))\n",
    "    if len(Computer_card)==1:\n",
    "        print(\"Computer has \" , Computer_card)  \n",
    "if sum (User_card)==21:\n",
    "    print(\"User win\")\n",
    "elif sum(User_card)>21:\n",
    "        print(\"Oh.....\")\n",
    "while sum(User_card)<21:\n",
    "    answer=str(input(\"Do you want another card?\"))\n",
    "    if answer==\"No\":\n",
    "        break\n",
    "    if answer==\"Yes\":\n",
    "        User_card.append(random.randint(1, 11))\n",
    "        print(\"User has \" + str(sum(User_card))+ \"with\", User_card)\n",
    "    else:\n",
    "        print(\"User has \" + str(sum(User_card)) + \"with\", User_card)"
   ]
  },
  {
   "cell_type": "markdown",
   "metadata": {},
   "source": [
    "# Assignment 3\n",
    "\n",
    "Redo assignment 2 but create a function that you call to deal a new card for a player (generate random numbers and add it to a players list). Then create a second function that evaluates who's the winner and prints the final counts."
   ]
  },
  {
   "cell_type": "code",
   "execution_count": null,
   "metadata": {},
   "outputs": [
    {
     "name": "stdout",
     "output_type": "stream",
     "text": [
      "User has  [1]\n",
      "Computer has  [6]\n"
     ]
    }
   ],
   "source": [
    "def new_card(number):\n",
    "    number=input(random.randint(1, 11))\n",
    "    \n",
    "import random\n",
    "User_card=[]\n",
    "Computer_card=[]\n",
    "\n",
    "while len(User_card) !=1:\n",
    "    User_card.append(random.randint(1, 11))\n",
    "    if len(User_card)==1:\n",
    "        print(\"User has \" , User_card)\n",
    "while len(Computer_card) !=1:\n",
    "    Computer_card.append(random.randint(1, 11))\n",
    "    if len(Computer_card)==1:\n",
    "        print(\"Computer has \" , Computer_card)  \n",
    "if sum (User_card)==21:\n",
    "    print(\"User win\")\n",
    "elif sum(User_card)>21:\n",
    "        print(\"Oh.....\")\n",
    "while sum(User_card)<21:\n",
    "    answer=str(input(\"Do you want another card?\"))\n",
    "    if answer==\"No\":\n",
    "        break\n",
    "    if answer==\"Yes\":\n",
    "        User_card.append(random.randint(1, 11))\n",
    "        print(\"User has \" + str(sum(User_card))+ \"with\", User_card)\n",
    "    else:\n",
    "        print(\"User has \" + str(sum(User_card)) + \"with\", User_card)\n",
    "for x in range(2):\n",
    "    print(random.randint (1, 11))"
   ]
  },
  {
   "cell_type": "markdown",
   "metadata": {},
   "source": [
    "# Assignment 4\n",
    "\n",
    "Similar to the in-class exercise, create a dictionary of books and their checkout status. Write a loop that let's a user borrow a book and return a message that informs them if the book is in the library, if it is already checked out or if it was successfully checked out. Also record who checked out a book (by asking the user for their name) and give the user the option to 1) see all the books that a particular user has checked out and 2) see the user who has checked out a book. Use functions to structure your code. You can use the response to the question of which book a user wants to checkout to exit the program or to show all the books a user has checked out."
   ]
  },
  {
   "cell_type": "code",
   "execution_count": 106,
   "metadata": {},
   "outputs": [
    {
     "ename": "KeyboardInterrupt",
     "evalue": "",
     "output_type": "error",
     "traceback": [
      "\u001b[0;31m---------------------------------------------------------------------------\u001b[0m",
      "\u001b[0;31mKeyboardInterrupt\u001b[0m                         Traceback (most recent call last)",
      "\u001b[0;32m/opt/anaconda3/lib/python3.7/site-packages/ipykernel/kernelbase.py\u001b[0m in \u001b[0;36m_input_request\u001b[0;34m(self, prompt, ident, parent, password)\u001b[0m\n\u001b[1;32m    884\u001b[0m             \u001b[0;32mtry\u001b[0m\u001b[0;34m:\u001b[0m\u001b[0;34m\u001b[0m\u001b[0;34m\u001b[0m\u001b[0m\n\u001b[0;32m--> 885\u001b[0;31m                 \u001b[0mident\u001b[0m\u001b[0;34m,\u001b[0m \u001b[0mreply\u001b[0m \u001b[0;34m=\u001b[0m \u001b[0mself\u001b[0m\u001b[0;34m.\u001b[0m\u001b[0msession\u001b[0m\u001b[0;34m.\u001b[0m\u001b[0mrecv\u001b[0m\u001b[0;34m(\u001b[0m\u001b[0mself\u001b[0m\u001b[0;34m.\u001b[0m\u001b[0mstdin_socket\u001b[0m\u001b[0;34m,\u001b[0m \u001b[0;36m0\u001b[0m\u001b[0;34m)\u001b[0m\u001b[0;34m\u001b[0m\u001b[0;34m\u001b[0m\u001b[0m\n\u001b[0m\u001b[1;32m    886\u001b[0m             \u001b[0;32mexcept\u001b[0m \u001b[0mException\u001b[0m\u001b[0;34m:\u001b[0m\u001b[0;34m\u001b[0m\u001b[0;34m\u001b[0m\u001b[0m\n",
      "\u001b[0;32m/opt/anaconda3/lib/python3.7/site-packages/jupyter_client/session.py\u001b[0m in \u001b[0;36mrecv\u001b[0;34m(self, socket, mode, content, copy)\u001b[0m\n\u001b[1;32m    802\u001b[0m         \u001b[0;32mtry\u001b[0m\u001b[0;34m:\u001b[0m\u001b[0;34m\u001b[0m\u001b[0;34m\u001b[0m\u001b[0m\n\u001b[0;32m--> 803\u001b[0;31m             \u001b[0mmsg_list\u001b[0m \u001b[0;34m=\u001b[0m \u001b[0msocket\u001b[0m\u001b[0;34m.\u001b[0m\u001b[0mrecv_multipart\u001b[0m\u001b[0;34m(\u001b[0m\u001b[0mmode\u001b[0m\u001b[0;34m,\u001b[0m \u001b[0mcopy\u001b[0m\u001b[0;34m=\u001b[0m\u001b[0mcopy\u001b[0m\u001b[0;34m)\u001b[0m\u001b[0;34m\u001b[0m\u001b[0;34m\u001b[0m\u001b[0m\n\u001b[0m\u001b[1;32m    804\u001b[0m         \u001b[0;32mexcept\u001b[0m \u001b[0mzmq\u001b[0m\u001b[0;34m.\u001b[0m\u001b[0mZMQError\u001b[0m \u001b[0;32mas\u001b[0m \u001b[0me\u001b[0m\u001b[0;34m:\u001b[0m\u001b[0;34m\u001b[0m\u001b[0;34m\u001b[0m\u001b[0m\n",
      "\u001b[0;32m/opt/anaconda3/lib/python3.7/site-packages/zmq/sugar/socket.py\u001b[0m in \u001b[0;36mrecv_multipart\u001b[0;34m(self, flags, copy, track)\u001b[0m\n\u001b[1;32m    474\u001b[0m         \"\"\"\n\u001b[0;32m--> 475\u001b[0;31m         \u001b[0mparts\u001b[0m \u001b[0;34m=\u001b[0m \u001b[0;34m[\u001b[0m\u001b[0mself\u001b[0m\u001b[0;34m.\u001b[0m\u001b[0mrecv\u001b[0m\u001b[0;34m(\u001b[0m\u001b[0mflags\u001b[0m\u001b[0;34m,\u001b[0m \u001b[0mcopy\u001b[0m\u001b[0;34m=\u001b[0m\u001b[0mcopy\u001b[0m\u001b[0;34m,\u001b[0m \u001b[0mtrack\u001b[0m\u001b[0;34m=\u001b[0m\u001b[0mtrack\u001b[0m\u001b[0;34m)\u001b[0m\u001b[0;34m]\u001b[0m\u001b[0;34m\u001b[0m\u001b[0;34m\u001b[0m\u001b[0m\n\u001b[0m\u001b[1;32m    476\u001b[0m         \u001b[0;31m# have first part already, only loop while more to receive\u001b[0m\u001b[0;34m\u001b[0m\u001b[0;34m\u001b[0m\u001b[0;34m\u001b[0m\u001b[0m\n",
      "\u001b[0;32mzmq/backend/cython/socket.pyx\u001b[0m in \u001b[0;36mzmq.backend.cython.socket.Socket.recv\u001b[0;34m()\u001b[0m\n",
      "\u001b[0;32mzmq/backend/cython/socket.pyx\u001b[0m in \u001b[0;36mzmq.backend.cython.socket.Socket.recv\u001b[0;34m()\u001b[0m\n",
      "\u001b[0;32mzmq/backend/cython/socket.pyx\u001b[0m in \u001b[0;36mzmq.backend.cython.socket._recv_copy\u001b[0;34m()\u001b[0m\n",
      "\u001b[0;32m/opt/anaconda3/lib/python3.7/site-packages/zmq/backend/cython/checkrc.pxd\u001b[0m in \u001b[0;36mzmq.backend.cython.checkrc._check_rc\u001b[0;34m()\u001b[0m\n",
      "\u001b[0;31mKeyboardInterrupt\u001b[0m: ",
      "\nDuring handling of the above exception, another exception occurred:\n",
      "\u001b[0;31mKeyboardInterrupt\u001b[0m                         Traceback (most recent call last)",
      "\u001b[0;32m<ipython-input-106-ff5846a0a135>\u001b[0m in \u001b[0;36m<module>\u001b[0;34m\u001b[0m\n\u001b[1;32m      2\u001b[0m \u001b[0mname\u001b[0m\u001b[0;34m=\u001b[0m\u001b[0;34m{\u001b[0m\u001b[0;34m\"Peter\"\u001b[0m\u001b[0;34m,\u001b[0m \u001b[0;34m\"Mary\"\u001b[0m\u001b[0;34m}\u001b[0m\u001b[0;34m\u001b[0m\u001b[0;34m\u001b[0m\u001b[0m\n\u001b[1;32m      3\u001b[0m \u001b[0;32mwhile\u001b[0m \u001b[0;32mTrue\u001b[0m\u001b[0;34m:\u001b[0m\u001b[0;34m\u001b[0m\u001b[0;34m\u001b[0m\u001b[0m\n\u001b[0;32m----> 4\u001b[0;31m     \u001b[0mitem\u001b[0m\u001b[0;34m=\u001b[0m\u001b[0minput\u001b[0m\u001b[0;34m(\u001b[0m\u001b[0;34m\"What book do you want to borrow? \"\u001b[0m\u001b[0;34m)\u001b[0m\u001b[0;34m\u001b[0m\u001b[0;34m\u001b[0m\u001b[0m\n\u001b[0m\u001b[1;32m      5\u001b[0m     \u001b[0;32mif\u001b[0m \u001b[0mitem\u001b[0m\u001b[0;34m==\u001b[0m\u001b[0;34m\"No\"\u001b[0m\u001b[0;34m:\u001b[0m\u001b[0;34m\u001b[0m\u001b[0;34m\u001b[0m\u001b[0m\n\u001b[1;32m      6\u001b[0m         \u001b[0;32mbreak\u001b[0m\u001b[0;34m\u001b[0m\u001b[0;34m\u001b[0m\u001b[0m\n",
      "\u001b[0;32m/opt/anaconda3/lib/python3.7/site-packages/ipykernel/kernelbase.py\u001b[0m in \u001b[0;36mraw_input\u001b[0;34m(self, prompt)\u001b[0m\n\u001b[1;32m    858\u001b[0m             \u001b[0mself\u001b[0m\u001b[0;34m.\u001b[0m\u001b[0m_parent_ident\u001b[0m\u001b[0;34m,\u001b[0m\u001b[0;34m\u001b[0m\u001b[0;34m\u001b[0m\u001b[0m\n\u001b[1;32m    859\u001b[0m             \u001b[0mself\u001b[0m\u001b[0;34m.\u001b[0m\u001b[0m_parent_header\u001b[0m\u001b[0;34m,\u001b[0m\u001b[0;34m\u001b[0m\u001b[0;34m\u001b[0m\u001b[0m\n\u001b[0;32m--> 860\u001b[0;31m             \u001b[0mpassword\u001b[0m\u001b[0;34m=\u001b[0m\u001b[0;32mFalse\u001b[0m\u001b[0;34m,\u001b[0m\u001b[0;34m\u001b[0m\u001b[0;34m\u001b[0m\u001b[0m\n\u001b[0m\u001b[1;32m    861\u001b[0m         )\n\u001b[1;32m    862\u001b[0m \u001b[0;34m\u001b[0m\u001b[0m\n",
      "\u001b[0;32m/opt/anaconda3/lib/python3.7/site-packages/ipykernel/kernelbase.py\u001b[0m in \u001b[0;36m_input_request\u001b[0;34m(self, prompt, ident, parent, password)\u001b[0m\n\u001b[1;32m    888\u001b[0m             \u001b[0;32mexcept\u001b[0m \u001b[0mKeyboardInterrupt\u001b[0m\u001b[0;34m:\u001b[0m\u001b[0;34m\u001b[0m\u001b[0;34m\u001b[0m\u001b[0m\n\u001b[1;32m    889\u001b[0m                 \u001b[0;31m# re-raise KeyboardInterrupt, to truncate traceback\u001b[0m\u001b[0;34m\u001b[0m\u001b[0;34m\u001b[0m\u001b[0;34m\u001b[0m\u001b[0m\n\u001b[0;32m--> 890\u001b[0;31m                 \u001b[0;32mraise\u001b[0m \u001b[0mKeyboardInterrupt\u001b[0m\u001b[0;34m\u001b[0m\u001b[0;34m\u001b[0m\u001b[0m\n\u001b[0m\u001b[1;32m    891\u001b[0m             \u001b[0;32melse\u001b[0m\u001b[0;34m:\u001b[0m\u001b[0;34m\u001b[0m\u001b[0;34m\u001b[0m\u001b[0m\n\u001b[1;32m    892\u001b[0m                 \u001b[0;32mbreak\u001b[0m\u001b[0;34m\u001b[0m\u001b[0;34m\u001b[0m\u001b[0m\n",
      "\u001b[0;31mKeyboardInterrupt\u001b[0m: "
     ]
    }
   ],
   "source": [
    "book={\"Godfather\": True, \"Harry Potter\": False, \"Star Wars\": False, \"On Justice\": True}\n",
    "name={\"Peter\", \"Mary\"}\n",
    "while True:\n",
    "    item=input(\"What book do you want to borrow? \")\n",
    "    if item==\"No\":\n",
    "        break\n",
    "        \n",
    "    a=input(\"Is it in this library?\")\n",
    "    if item in book:\n",
    "        print (\"This book is in our library.\")\n",
    "    else:\n",
    "        print (\"This book is not in our library.\")\n",
    "        break\n",
    "    Status==input(\"Has it been checked out?\")\n",
    "    if book[item]==False:\n",
    "        print(\"Yes. It has been checkedout.\")\n",
    "        print(\"By whom?\")\n",
    "        print(\"By\" )\n",
    "    elif book[item]==True:\n",
    "        print(\"No. It has not been checked out.\")\n",
    "        break"
   ]
  },
  {
   "cell_type": "code",
   "execution_count": null,
   "metadata": {},
   "outputs": [],
   "source": []
  },
  {
   "cell_type": "code",
   "execution_count": null,
   "metadata": {},
   "outputs": [],
   "source": []
  }
 ],
 "metadata": {
  "kernelspec": {
   "display_name": "Python 3",
   "language": "python",
   "name": "python3"
  },
  "language_info": {
   "codemirror_mode": {
    "name": "ipython",
    "version": 3
   },
   "file_extension": ".py",
   "mimetype": "text/x-python",
   "name": "python",
   "nbconvert_exporter": "python",
   "pygments_lexer": "ipython3",
   "version": "3.7.4"
  }
 },
 "nbformat": 4,
 "nbformat_minor": 2
}
