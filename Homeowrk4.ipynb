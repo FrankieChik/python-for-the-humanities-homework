{
 "cells": [
  {
   "cell_type": "markdown",
   "metadata": {},
   "source": [
    "# Assignment 1\n",
    "\n",
    "Creat a class that represents a textfile (e.g. called `Text`). The class should have the following properties:\n",
    "\n",
    "- a variable to hold the path to the file\n",
    "- a variable that holds the type of file (e.g. plaintext, pdf, image)\n",
    "- a variable that holds the filesize\n",
    "- a variable `text` that holds the text content of a file\n",
    "- a method to load the text content of a file into the `text` variable\n",
    "- a method that sets the filesize property of an object according the size of the file at `filepath`\n",
    "- a method that accepts another text object and returns true if that text object is smaller in size than the current one; otherwise false\n",
    "\n",
    "Then create three Text objects and put them in a list. For each element in the list print filepath, type of file, and filesize.\n"
   ]
  },
  {
   "cell_type": "code",
   "execution_count": 67,
   "metadata": {},
   "outputs": [
    {
     "name": "stdout",
     "output_type": "stream",
     "text": [
      "loading/path/to/my/file\n",
      "pdf\n",
      "30\n",
      "loading/path/to/my/file\n",
      "txt\n",
      "15\n",
      "loading/path/to/my/file\n",
      "doc\n",
      "45\n"
     ]
    }
   ],
   "source": [
    "# your code\n",
    "class Text:\n",
    "    def __init__(self, filepath, filetype, filesize):\n",
    "        self.path_to_file=filepath\n",
    "        self.filetype=filetype\n",
    "        self.filesize=filesize\n",
    "    def load_text(self):\n",
    "        print(\"loading\" + self.path_to_file) \n",
    "    def smaller_size(filesize, current_size):\n",
    "        if filesize < current_size:\n",
    "            return True\n",
    "        return False\n",
    "\n",
    "t1=Text(\"/path/to/my/file\", \"pdf\", 30)\n",
    "t1.load_text()\n",
    "print(t1.filetype)\n",
    "print(t1.filesize)\n",
    "\n",
    "t2=Text(\"/path/to/my/file\", \"txt\", 15)\n",
    "t2.load_text()\n",
    "print(t2.filetype)\n",
    "print(t2.filesize)\n",
    "\n",
    "t3=Text(\"/path/to/my/file\", \"doc\", 45)\n",
    "t3.load_text()\n",
    "print(t3.filetype)\n",
    "print(t3.filesize)    "
   ]
  },
  {
   "cell_type": "markdown",
   "metadata": {},
   "source": [
    "# Assignment 2\n",
    "\n",
    "Create a class that represents a project (e.g. called `Project`). The class should have the following properties:\n",
    "\n",
    "- It should be initialized with a path to a directory that holds several folders.\n",
    "- It should have a list of collections objects (see below).\n",
    "- There should be a method called `load_collections` that will for each folder in the directory passed to the constructor, create a collection and name it according to the folder name and set the path to the folder in the collection.\n",
    "\n",
    "Create a class that represents a collection of texts (e.g. called `Collection`). The class should have the following properties:\n",
    "\n",
    "- A path to a folder in the filesystem.\n",
    "- A name for the collection.\n",
    "- a list of `Text` objects.\n",
    "- A method called `load_files` that will create a `Text` object for each file in the folder specified for the collection.\n",
    "\n",
    "Create a folder that has several subfolders. Each subfolder should have a year as name (e.g. 1991, 1992, 1993, ...). Put a couple of plain text files into each folder. Now create a `Project` object and initialize it with the path to the folder (that has the year subfolders). Now call `load_collections` on the project and `load_files` on each collection."
   ]
  },
  {
   "cell_type": "code",
   "execution_count": 10,
   "metadata": {},
   "outputs": [
    {
     "name": "stdout",
     "output_type": "stream",
     "text": [
      "load collections/path/to/my/collections\n",
      "<__main__.Project object at 0x10fa43450>\n",
      "load filesa/path/to/my/collections/filea\n",
      "[1997, 1998, 1999, 2000, 2001, 2002, 2003]\n",
      "load filesb/path/to/my/collections/fileb\n",
      "[2004, 2005, 2006, 2007, 2008, 2009, 2010]\n",
      "load filesc/path/to/my/collections/filec\n",
      "[2011, 2012, 2013, 2014, 2015, 2016, 2017]\n"
     ]
    }
   ],
   "source": [
    "# your code\n",
    "class Project:\n",
    "    def __init__(self, collectionspath):\n",
    "        self.path_to_collections=collectionspath\n",
    "    def load_collections(self):\n",
    "        print(\"load collections\" + self.path_to_collections)\n",
    "\n",
    "class CollectionA(Project):\n",
    "    def __init__(self, filepath, yeara):\n",
    "        self.path_to_file=filepath\n",
    "        self.yeara=yeara\n",
    "    def load_filesa(self):\n",
    "        print(\"load filesa\" + self.path_to_file)\n",
    "\n",
    "class CollectionB(Project):\n",
    "    def __init__(self, filepath, yearb):\n",
    "        self.path_to_file=filepath\n",
    "        self.yearb=yearb\n",
    "    def load_filesb(self):\n",
    "        print(\"load filesb\" + self.path_to_file)\n",
    "\n",
    "class CollectionC(Project):\n",
    "    def __init__(self, filepath, yearc):\n",
    "        self.path_to_file=filepath\n",
    "        self.yearc=yearc\n",
    "    def load_filesc(self):\n",
    "        print(\"load filesc\" + self.path_to_file)\n",
    "        \n",
    "p1=Project(\"/path/to/my/collections\")\n",
    "p1.load_collections()\n",
    "print(p1)\n",
    "yeara=[1997, 1998, 1999, 2000, 2001, 2002, 2003]\n",
    "c1=CollectionA(\"/path/to/my/collections/filea\", yeara)\n",
    "c1.load_filesa()\n",
    "print(c1.yeara)\n",
    "yearb=[2004, 2005, 2006, 2007, 2008, 2009, 2010]\n",
    "c2=CollectionB(\"/path/to/my/collections/fileb\", yearb)\n",
    "c2.load_filesb()\n",
    "print(c2.yearb)\n",
    "yearc=[2011, 2012, 2013, 2014, 2015, 2016, 2017]\n",
    "c3=CollectionC(\"/path/to/my/collections/filec\", yearc)\n",
    "c3.load_filesc()\n",
    "print(c3.yearc)"
   ]
  },
  {
   "cell_type": "code",
   "execution_count": 9,
   "metadata": {},
   "outputs": [
    {
     "name": "stdout",
     "output_type": "stream",
     "text": [
      "load collections/path/to/my/collections\n",
      "<__main__.Project object at 0x10fcef450>\n",
      "load filesa/path/to/my/collections/filea\n",
      "[1997, 1998, 1999, 2000, 2001, 2002, 2003]\n",
      "load filesb/path/to/my/collections/fileb\n",
      "[2004, 2005, 2006, 2007, 2008, 2009, 2010]\n",
      "load filesc/path/to/my/collections/filec\n",
      "[2011, 2012, 2013, 2014, 2015, 2016, 2017]\n"
     ]
    }
   ],
   "source": [
    "# your code\n",
    "class Project:\n",
    "    def __init__(self, collectionspath):\n",
    "        self.path_to_collections=collectionspath\n",
    "    def load_collections(self):\n",
    "        print(\"load collections\" + self.path_to_collections)\n",
    "\n",
    "class CollectionA(Project):\n",
    "    def __init__(self, filepath, yeara):\n",
    "        self.path_to_file=filepath\n",
    "        self.yeara=yeara\n",
    "    def load_filesa(self):\n",
    "        print(\"load filesa\" + self.path_to_file)\n",
    "\n",
    "class CollectionB(Project):\n",
    "    def __init__(self, filepath, yearb):\n",
    "        self.path_to_file=filepath\n",
    "        self.yearb=yearb\n",
    "    def load_filesb(self):\n",
    "        print(\"load filesb\" + self.path_to_file)\n",
    "\n",
    "class CollectionC(Project):\n",
    "    def __init__(self, filepath, yearc):\n",
    "        self.path_to_file=filepath\n",
    "        self.yearc=yearc\n",
    "    def load_filesc(self):\n",
    "        print(\"load filesc\" + self.path_to_file)\n",
    "        \n",
    "p1=Project(\"/path/to/my/collections\")\n",
    "p1.load_collections()\n",
    "print(p1)\n",
    "yeara=[1997, 1998, 1999, 2000, 2001, 2002, 2003]\n",
    "c1=CollectionA(\"/path/to/my/collections/filea\", yeara)\n",
    "c1.load_filesa()\n",
    "print(c1.yeara)\n",
    "yearb=[2004, 2005, 2006, 2007, 2008, 2009, 2010]\n",
    "c2=CollectionB(\"/path/to/my/collections/fileb\", yearb)\n",
    "c2.load_filesb()\n",
    "print(c2.yearb)\n",
    "yearc=[2011, 2012, 2013, 2014, 2015, 2016, 2017]\n",
    "c3=CollectionC(\"/path/to/my/collections/filec\", yearc)\n",
    "c3.load_filesc()\n",
    "print(c3.yearc)"
   ]
  },
  {
   "cell_type": "code",
   "execution_count": null,
   "metadata": {},
   "outputs": [],
   "source": []
  },
  {
   "cell_type": "code",
   "execution_count": 1,
   "metadata": {
    "scrolled": true
   },
   "outputs": [],
   "source": [
    "# your code\n"
   ]
  },
  {
   "cell_type": "code",
   "execution_count": null,
   "metadata": {},
   "outputs": [],
   "source": []
  },
  {
   "cell_type": "code",
   "execution_count": null,
   "metadata": {},
   "outputs": [],
   "source": []
  }
 ],
 "metadata": {
  "kernelspec": {
   "display_name": "Python 3",
   "language": "python",
   "name": "python3"
  },
  "language_info": {
   "codemirror_mode": {
    "name": "ipython",
    "version": 3
   },
   "file_extension": ".py",
   "mimetype": "text/x-python",
   "name": "python",
   "nbconvert_exporter": "python",
   "pygments_lexer": "ipython3",
   "version": "3.7.4"
  }
 },
 "nbformat": 4,
 "nbformat_minor": 2
}
