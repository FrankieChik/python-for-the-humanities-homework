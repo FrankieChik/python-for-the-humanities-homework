{
 "cells": [
  {
   "cell_type": "markdown",
   "metadata": {},
   "source": [
    "# Assignment 1\n",
    "\n",
    "Create a doc folder in your homework repository on GitHub. Enable GitHub pages and set it to use the docs folder. Add an index.md file and a second file. Put some text in both files using Markdown. Include at least 2 types of headings, a list and a code snipped (e.g. from one of you homeworks). Add a link from the index.md file to your second file."
   ]
  },
  {
   "cell_type": "code",
   "execution_count": null,
   "metadata": {},
   "outputs": [],
   "source": [
    "# nothing to code here"
   ]
  },
  {
   "cell_type": "markdown",
   "metadata": {},
   "source": [
    "# Assignment 2\n",
    "\n",
    "Write a test case for the `count_words` method in the following class."
   ]
  },
  {
   "cell_type": "code",
   "execution_count": 5,
   "metadata": {},
   "outputs": [
    {
     "name": "stderr",
     "output_type": "stream",
     "text": [
      "test__init (__main__.TestTextStats) ... ok\n",
      "test_count_words (__main__.TestTextStats) ... ERROR\n",
      "\n",
      "======================================================================\n",
      "ERROR: test_count_words (__main__.TestTextStats)\n",
      "----------------------------------------------------------------------\n",
      "Traceback (most recent call last):\n",
      "  File \"<ipython-input-5-7a63d35ea9d3>\", line 28, in test_count_words\n",
      "    stat=TextStats(text)\n",
      "TypeError: __init__() takes 1 positional argument but 2 were given\n",
      "\n",
      "----------------------------------------------------------------------\n",
      "Ran 2 tests in 0.004s\n",
      "\n",
      "FAILED (errors=1)\n"
     ]
    },
    {
     "ename": "TypeError",
     "evalue": "__init__() takes 1 positional argument but 2 were given",
     "output_type": "error",
     "traceback": [
      "\u001b[0;31m---------------------------------------------------------------------------\u001b[0m",
      "\u001b[0;31mTypeError\u001b[0m                                 Traceback (most recent call last)",
      "\u001b[0;32m<ipython-input-5-7a63d35ea9d3>\u001b[0m in \u001b[0;36m<module>\u001b[0;34m\u001b[0m\n\u001b[1;32m     34\u001b[0m \u001b[0mtext\u001b[0m \u001b[0;34m=\u001b[0m \u001b[0;34m\"Betty Botter bought some butter. But she said the butter’s bitter. If I put it in my batter, it will make my batter bitter. But a bit of better butter will make my batter better. So it was better Betty Botter bought a bit of better butter.\"\u001b[0m\u001b[0;34m\u001b[0m\u001b[0;34m\u001b[0m\u001b[0m\n\u001b[1;32m     35\u001b[0m \u001b[0;34m\u001b[0m\u001b[0m\n\u001b[0;32m---> 36\u001b[0;31m \u001b[0mstat\u001b[0m \u001b[0;34m=\u001b[0m \u001b[0mTextStats\u001b[0m\u001b[0;34m(\u001b[0m\u001b[0mtext\u001b[0m\u001b[0;34m)\u001b[0m\u001b[0;34m\u001b[0m\u001b[0;34m\u001b[0m\u001b[0m\n\u001b[0m\u001b[1;32m     37\u001b[0m \u001b[0mprint\u001b[0m\u001b[0;34m(\u001b[0m\u001b[0mstat\u001b[0m\u001b[0;34m.\u001b[0m\u001b[0mcount_words\u001b[0m\u001b[0;34m(\u001b[0m\u001b[0;34m)\u001b[0m\u001b[0;34m)\u001b[0m\u001b[0;34m\u001b[0m\u001b[0;34m\u001b[0m\u001b[0m\n",
      "\u001b[0;31mTypeError\u001b[0m: __init__() takes 1 positional argument but 2 were given"
     ]
    }
   ],
   "source": [
    "import pandas as pd\n",
    "\n",
    "class TextStats:\n",
    "    \n",
    "    def __init__(self):\n",
    "        self.text = text\n",
    "        \n",
    "    def count_words(self):\n",
    "        words = self.text.split(\" \")\n",
    "        counts = {}\n",
    "        for word in words:\n",
    "            if word.endswith(\".\") or word.endswith(\",\"):\n",
    "                word = word[:-1]\n",
    "            word = word.lower()\n",
    "            if word not in counts:\n",
    "                counts[word] = 1\n",
    "            else:\n",
    "                counts[word] += 1\n",
    "        return counts\n",
    "    \n",
    "import unittest\n",
    "\n",
    "class TestTextStats(unittest.TestCase):  \n",
    "    def test__init(self):\n",
    "        self.text=text\n",
    "    \n",
    "    def test_count_words(self):\n",
    "        stat=TextStats(text)\n",
    "        self.assertEqual(stat.count_words(\"butter\"), 2)\n",
    "        \n",
    "if __name__=='__main__':\n",
    "    unittest.main(argv=[''], verbosity=2, exit=False)\n",
    "\n",
    "text = \"Betty Botter bought some butter. But she said the butter’s bitter. If I put it in my batter, it will make my batter bitter. But a bit of better butter will make my batter better. So it was better Betty Botter bought a bit of better butter.\"\n",
    "\n",
    "stat = TextStats(text)\n",
    "print(stat.count_words())"
   ]
  },
  {
   "cell_type": "markdown",
   "metadata": {},
   "source": [
    "# Assignment 3\n",
    "\n",
    "Start working on your project. Create a GitHub repository for your code. Commit and push your work. You should have at least started on your code, so that we can see an overall plan for your project. Send Ken and Julia the link to your repository."
   ]
  },
  {
   "cell_type": "code",
   "execution_count": 4,
   "metadata": {},
   "outputs": [
    {
     "ename": "SyntaxError",
     "evalue": "invalid syntax (<ipython-input-4-3f0651a67d3d>, line 37)",
     "output_type": "error",
     "traceback": [
      "\u001b[0;36m  File \u001b[0;32m\"<ipython-input-4-3f0651a67d3d>\"\u001b[0;36m, line \u001b[0;32m37\u001b[0m\n\u001b[0;31m    with open('file','r')\u001b[0m\n\u001b[0m                         ^\u001b[0m\n\u001b[0;31mSyntaxError\u001b[0m\u001b[0;31m:\u001b[0m invalid syntax\n"
     ]
    }
   ],
   "source": [
    "# should be in separate repository.\n",
    "import os\n",
    "\n",
    "for path, dirs, files in os.walk ('/Users/hinmingfrankiechik/Desktop/text_files'):\n",
    "    for file in files:\n",
    "        print(os.path.join(path, file))\n",
    "    \n",
    "\n",
    "with os.scandir('/Users/hinmingfrankiechik/Desktop/text_files') as dircontent:\n",
    "    for name in dircontent:\n",
    "        print(name)\n",
    "with  os.scandir('/Users/hinmingfrankiechik/Desktop/text_files/2001') as dircontent:\n",
    "    for name in dircontent:\n",
    "        print(name)\n",
    "with  os.scandir('/Users/hinmingfrankiechik/Desktop/text_files/2002') as dircontent:\n",
    "    for name in dircontent:\n",
    "        print(name)\n",
    "with  os.scandir('/Users/hinmingfrankiechik/Desktop/text_files/2003') as dircontent:\n",
    "    for name in dircontent:\n",
    "        print(name)\n",
    "with  os.scandir('/Users/hinmingfrankiechik/Desktop/text_files/2004') as dircontent:\n",
    "    for name in dircontent:\n",
    "        print(name)\n",
    "with  os.scandir('/Users/hinmingfrankiechik/Desktop/text_files/2005') as dircontent:\n",
    "    for name in dircontent:\n",
    "        print(name)\n",
    "with  os.scandir('/Users/hinmingfrankiechik/Desktop/text_files/2007') as dircontent:\n",
    "    for name in dircontent:\n",
    "        print(name)\n",
    "with  os.scandir('/Users/hinmingfrankiechik/Desktop/text_files/2008') as dircontent:\n",
    "    for name in dircontent:\n",
    "        print(name)\n",
    "with  os.scandir('/Users/hinmingfrankiechik/Desktop/text_files/2009') as dircontent:\n",
    "    for name in dircontent:\n",
    "        print(name)\n",
    "        \n",
    "with open('file','r')\n",
    "\n"
   ]
  },
  {
   "cell_type": "code",
   "execution_count": null,
   "metadata": {},
   "outputs": [],
   "source": []
  }
 ],
 "metadata": {
  "kernelspec": {
   "display_name": "Python 3",
   "language": "python",
   "name": "python3"
  },
  "language_info": {
   "codemirror_mode": {
    "name": "ipython",
    "version": 3
   },
   "file_extension": ".py",
   "mimetype": "text/x-python",
   "name": "python",
   "nbconvert_exporter": "python",
   "pygments_lexer": "ipython3",
   "version": "3.7.4"
  }
 },
 "nbformat": 4,
 "nbformat_minor": 2
}
